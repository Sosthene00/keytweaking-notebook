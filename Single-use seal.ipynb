{
 "cells": [
  {
   "cell_type": "markdown",
   "id": "2519d1c9",
   "metadata": {},
   "source": [
    "# Single-use-seal\n",
    "\n",
    "This notebook is about demonstrating how Peter Todd's [single-use-seal](https://petertodd.org/2016/commitments-and-single-use-seals) is supposed to work, and how it applies to bitcoin transactions"
   ]
  },
  {
   "cell_type": "code",
   "execution_count": 1,
   "id": "b9dcc9a4",
   "metadata": {},
   "outputs": [],
   "source": [
    "import ecc.ecc as ecc\n",
    "import ecc.util as util\n",
    "from os import urandom\n",
    "from random import randrange\n",
    "import hashlib, hmac"
   ]
  },
  {
   "cell_type": "markdown",
   "id": "13fbc025",
   "metadata": {},
   "source": [
    "## Announcement of a seal\n",
    "\n",
    "The point of a single-use-seal is that we can make it known before the data it commits to even exists."
   ]
  },
  {
   "cell_type": "code",
   "execution_count": 2,
   "id": "718424fd",
   "metadata": {},
   "outputs": [
    {
     "name": "stdout",
     "output_type": "stream",
     "text": [
      "seal is 03e6d191c3c3a6313e0157e2dd9b5c53aa6d58ce3d6c6dc4266274bd0838a80420\n"
     ]
    }
   ],
   "source": [
    "# let's take a public key. This will be our seal.\n",
    "seal = ecc.PrivateKey(int(b\"a8c2ddfc451aeded83faf5030dc6c726c0c2f1f0bc91afbd2e82ca75a9c176de\", 16))\n",
    "print(f\"seal is {seal.point}\")"
   ]
  },
  {
   "cell_type": "markdown",
   "id": "2171b336",
   "metadata": {},
   "source": [
    "### Defining the commitment\n",
    "The commitment can simply be the hash of a message we want to commit to."
   ]
  },
  {
   "cell_type": "code",
   "execution_count": 3,
   "id": "20f0ccca",
   "metadata": {},
   "outputs": [
    {
     "name": "stdout",
     "output_type": "stream",
     "text": [
      "commitment is 3311b7c0bd91b6c73a38212de8ade31c51910f17480ad212ed2b9798a35b7747\n"
     ]
    }
   ],
   "source": [
    "# let's hash an arbitrary string\n",
    "msg = b\"This is my message\"\n",
    "\n",
    "commitment = hashlib.sha256(msg).digest()\n",
    "print(f\"commitment is {commitment.hex()}\")"
   ]
  },
  {
   "cell_type": "markdown",
   "id": "03f235f5",
   "metadata": {},
   "source": [
    "### Closing the seal over the commitment"
   ]
  },
  {
   "cell_type": "code",
   "execution_count": 4,
   "id": "880c6c83",
   "metadata": {},
   "outputs": [
    {
     "name": "stdout",
     "output_type": "stream",
     "text": [
      "Signature is 3045022100dccc12fbdc67b075eb35dfd723ddc004e43648b9d1fe1aa46a3805430cc3556c0220018b8a689fcd8ace6f681489efe61da47d2e2e6bc4153ed816074f473461bc2a\n"
     ]
    }
   ],
   "source": [
    "# now we can sign the commitment with the private key that fit our seal\n",
    "signature = seal.sign(commitment)\n",
    "print(f\"Signature is {signature}\")"
   ]
  },
  {
   "cell_type": "code",
   "execution_count": 5,
   "id": "76f4aa62",
   "metadata": {},
   "outputs": [
    {
     "name": "stdout",
     "output_type": "stream",
     "text": [
      "Signature verify for public key 03e6d191c3c3a6313e0157e2dd9b5c53aa6d58ce3d6c6dc4266274bd0838a80420: True\n"
     ]
    }
   ],
   "source": [
    "# and anyone with the message, the seal and the signature can verify it.\n",
    "print(f\"Signature verify for public key {seal.point.sec().hex()}: {seal.point.verify(commitment, signature)}\")"
   ]
  },
  {
   "cell_type": "code",
   "execution_count": 6,
   "id": "67bf8731",
   "metadata": {},
   "outputs": [
    {
     "name": "stdout",
     "output_type": "stream",
     "text": [
      "commitment is 83c65a4fbb191322d6457c23315c42b1ef07c8f18f6d2156c69e55d452d88a5f\n"
     ]
    }
   ],
   "source": [
    "# I can link multiple seals together committing another seal inside the previous one\n",
    "next_seal = ecc.PrivateKey(int(b\"378ee5ef6c5e466b295b4f83716c94689086390d307090cb800300acfaba0706\", 16))\n",
    "msg = f\"This is my message\\nnext seal:{next_seal.point}\"\n",
    "commitment = hashlib.sha256(bytes(msg, 'utf-8')).digest()\n",
    "print(f\"commitment is {commitment.hex()}\")"
   ]
  },
  {
   "cell_type": "code",
   "execution_count": 7,
   "id": "6f6355b0",
   "metadata": {},
   "outputs": [
    {
     "name": "stdout",
     "output_type": "stream",
     "text": [
      "Signature verify for public key 03e6d191c3c3a6313e0157e2dd9b5c53aa6d58ce3d6c6dc4266274bd0838a80420: True\n"
     ]
    }
   ],
   "source": [
    "# Now I sign the commitment and thereby I also commit to the next seal\n",
    "signature = seal.sign(commitment)\n",
    "print(f\"Signature verify for public key {seal.point.sec().hex()}: {seal.point.verify(commitment, signature)}\")"
   ]
  },
  {
   "cell_type": "markdown",
   "id": "8b2e4e49",
   "metadata": {},
   "source": [
    "## Problem\n",
    "I can close the seal on multiple messages, making them, well, not that much \"single-use\". That's because I can sign any message with the key and produce valid signatures.\n",
    "## Solution\n",
    "Use bitcoin UTXOs as seal, because they are provably only spendable once (or Bitcoin would be broken)"
   ]
  },
  {
   "cell_type": "code",
   "execution_count": 8,
   "id": "c36649e9",
   "metadata": {},
   "outputs": [
    {
     "name": "stdout",
     "output_type": "stream",
     "text": [
      "mn4sNZMuJnBFTbWYcn1FZ3inBL1Ss3Sjny\n",
      "mr9awu69wnCd3AM6iEEeDqSuSZoYuNq6Sk\n",
      "This is my message\n",
      "next seal:2d0be74700f7551991bc06f285006d466abe27ba78d1b769b913d7caeb9f2f3a:0\n",
      "Signature verify for public key 03c6999e2eec6c9e2e644a2f585df1e5ebf52539433ca8f7ba879dad6608896205: True\n"
     ]
    }
   ],
   "source": [
    "class Seal:\n",
    "    def __init__(self, wif: str, prevtx: str, vout: int):\n",
    "        self.keys = ecc.PrivateKey.from_wif(wif)\n",
    "        self.address = self.keys.point.address()\n",
    "        self.prevtx = bytes.fromhex(prevtx)[::-1]\n",
    "        self.vout = vout\n",
    "        \n",
    "utxo0 = \"fa0b91b1148789e8eb05cd638de7a04dbb8774eada728c4dacc8d3a03100cbcf\"\n",
    "wif0 = \"cP9gNepnEeDrZzD489L9YRhaidDC8Kwctr3gLCwRZfgveCJgVJwS\"\n",
    "\n",
    "utxo1 = \"2d0be74700f7551991bc06f285006d466abe27ba78d1b769b913d7caeb9f2f3a\"\n",
    "wif1 = \"cNvNezudSk1WHdU1tqoxXHFjbMLy7kfywqBUHeW4jpPKk2zCZ5jn\"\n",
    "\n",
    "# let's use this UTXO as a first seal\n",
    "genesis_seal = Seal(wif0, utxo0, 0)\n",
    "print(genesis_seal.address)\n",
    "# I can create my commitment to the message and to the next seal (a completely unrelated bitcoin transaction)\n",
    "next_seal = Seal(wif1, utxo1, 0)\n",
    "print(next_seal.address)\n",
    "msg = f\"This is my message\\nnext seal:{next_seal.prevtx[::-1].hex()}:{next_seal.vout}\"\n",
    "print(msg)\n",
    "commitment = hashlib.sha256(bytes(msg, 'utf-8')).digest()\n",
    "\n",
    "# And now sign and eventually spend the transaction that serves as genesis_seal to close the commitment\n",
    "signature = genesis_seal.keys.sign(commitment)\n",
    "print(f\"Signature verify for public key {genesis_seal.keys.point}: {genesis_seal.keys.point.verify(commitment, signature)}\")\n"
   ]
  },
  {
   "cell_type": "markdown",
   "id": "13678b8d",
   "metadata": {},
   "source": [
    "## Let's do it with real transactions"
   ]
  },
  {
   "cell_type": "code",
   "execution_count": 9,
   "id": "de8a11f8",
   "metadata": {},
   "outputs": [],
   "source": [
    "import tx.tx as tx\n",
    "import tx.script as script\n",
    "from io import BytesIO"
   ]
  },
  {
   "cell_type": "code",
   "execution_count": 10,
   "id": "f8113014",
   "metadata": {},
   "outputs": [
    {
     "name": "stdout",
     "output_type": "stream",
     "text": [
      "tx: f26589047282d8dac8ac634b777efa2fabea8b30da0ea9348225234906f6f4c4\n",
      "version: 2\n",
      "tx_ins:\n",
      "fa0b91b1148789e8eb05cd638de7a04dbb8774eada728c4dacc8d3a03100cbcf:0\n",
      "tx_outs:\n",
      "99900000:OP_DUP OP_HASH160 d5c014cc5f6aaff81278c304370de4abe61260f7 OP_EQUALVERIFY OP_CHECKSIG\n",
      "0:OP_RETURN 718a208aca8a1b7ee7e50a014868a417edd41f17c77912ce1ca80309af53a97f\n",
      "locktime: 0\n"
     ]
    }
   ],
   "source": [
    "vin0 = tx.TxIn(genesis_seal.prevtx, genesis_seal.vout)\n",
    "\n",
    "# we need one standard output that pay to any address, we don't care\n",
    "some_pubkey = \"0339068b1a4e301ffe0ba7ce40e9ce0b7a58a8ba19977d621820b93286015fa69d\"\n",
    "scriptpubkey = script.p2pkh_script(util.hash160(bytes.fromhex(some_pubkey)))\n",
    "\n",
    "# we enbed the commitment in an op_return (old-school)\n",
    "opreturn = script.opreturn_script(commitment)\n",
    "\n",
    "vout0 = tx.TxOut(99900000, scriptpubkey)\n",
    "vout1 = tx.TxOut(0, opreturn)\n",
    "tx0 = tx.Tx(2, [vin0], [vout0,vout1], 0)\n",
    "print(tx0)"
   ]
  },
  {
   "cell_type": "code",
   "execution_count": 11,
   "id": "c4f13285",
   "metadata": {},
   "outputs": [
    {
     "data": {
      "text/plain": [
       "'0200000001cfcb0031a0d3c8ac4d8c72daea7487bb4da0e78d63cd05ebe8898714b1910bfa000000006b483045022100db959d05571a521014dd5abfa9b7be09ffb793249a383f37b4022fe400126314022059578f783933e028a2f1c9fffd287a08b4427feb856ce5bff9e27a22d094292f012103c6999e2eec6c9e2e644a2f585df1e5ebf52539433ca8f7ba879dad6608896205ffffffff02605af405000000001976a914d5c014cc5f6aaff81278c304370de4abe61260f788ac0000000000000000226a20718a208aca8a1b7ee7e50a014868a417edd41f17c77912ce1ca80309af53a97f00000000'"
      ]
     },
     "execution_count": 11,
     "metadata": {},
     "output_type": "execute_result"
    }
   ],
   "source": [
    "# to keep it simple, let's just manually copy/paste the scriptpubkey of the UTXO we're spending\n",
    "prev_scriptpubkey = script.Script.parse(BytesIO(bytes.fromhex(\"1976a91447d9f4dec0b895b50640d7f269251f4bd17b6a4e88ac\")))\n",
    "\n",
    "tx0.sign_input(0, genesis_seal.keys, prev_scriptpubkey)\n",
    "tx0.serialize().hex()"
   ]
  },
  {
   "cell_type": "markdown",
   "id": "c7bd7c0f",
   "metadata": {},
   "source": [
    "## Last step: let's actually tweak the public key"
   ]
  },
  {
   "cell_type": "markdown",
   "id": "aacfe948",
   "metadata": {},
   "source": [
    "### We reuse our tweaking code from the other book"
   ]
  },
  {
   "cell_type": "code",
   "execution_count": 12,
   "id": "247033ff",
   "metadata": {},
   "outputs": [],
   "source": [
    "def format_msg(msg):\n",
    "    # create the lnpbp1 msg\n",
    "    prefix = hashlib.sha256(b\"LNPBP1\").digest()\n",
    "    lnpbp1_msg = prefix + hashlib.sha256(b\"tag\").digest() + msg.encode('utf-8')\n",
    "    return lnpbp1_msg\n",
    "\n",
    "def create_commitment(pubkey, msg):\n",
    "    # implementation of LNPBP 1 (single key only)\n",
    "    lnpbp1_msg = format_msg(msg)\n",
    "    # HMAC s and P to get the tweaking factor f\n",
    "    hmac_msg = hmac.digest(pubkey.sec(False), lnpbp1_msg, hashlib.sha256)\n",
    "    f = int.from_bytes(hmac_msg, 'big')\n",
    "    # assert f < n\n",
    "    try:\n",
    "        assert f < ecc.N\n",
    "    except:\n",
    "        print(\"ERROR: tweak overflow secp256k1 order\")\n",
    "    # Compute a new PrivateKey with f as secret\n",
    "    return ecc.PrivateKey(f)\n",
    "\n",
    "def verify_commitment(original_pubkey, msg, commitment):\n",
    "    candidate = create_commitment(original_pubkey, msg)\n",
    "    return candidate.point + original_pubkey == commitment"
   ]
  },
  {
   "cell_type": "code",
   "execution_count": 13,
   "id": "2e1a416b",
   "metadata": {},
   "outputs": [
    {
     "name": "stdout",
     "output_type": "stream",
     "text": [
      "the message we commit to is f508f28efcc071526ca886c8e07c69d4954e2ec9fc52ab8cccd129110c0040af2a1073a6e67f0e5f09a5957c659503c690efe7272be8313df872556a9a684d8c54686973206973206d79206d6573736167650a6e657874207365616c3a326430626537343730306637353531393931626330366632383530303664343636616265323762613738643162373639623931336437636165623966326633613a30\n",
      "tweaking_factor pubkey is cRbwJMKQvU7ndkPFVsoXEaGvqoXZw5HUHTDgc5rNt4de67rGhtUN and 022d292aecb74ad3e29fa27570b3a1e608c49b9e06d393c69a0e0ba299b21d5e26\n",
      "tweaked_pubkey is 03573b4fa3e687c865327341e60fe0e6005ca7acf65683390469ee64dba55255ce\n",
      "tweaked address is mk3u4cfA6VKjTS4hqMT8msjw1uUoDSeaV7\n"
     ]
    }
   ],
   "source": [
    "# extract a pubkey from our wallet\n",
    "wallet_pubkey = ecc.S256Point.parse(bytes.fromhex(\"02e425a3a0248fdb65c452af38552e867929fa08a80e6aaf3effc294fa2b44ce0a\"))\n",
    "\n",
    "# format the msg we want to commit to\n",
    "msg = f\"This is my message\\nnext seal:{next_seal.prevtx[::-1].hex()}:{next_seal.vout}\"\n",
    "fmt_msg = format_msg(msg)\n",
    "print(f\"the message we commit to is {fmt_msg.hex()}\")\n",
    "\n",
    "# create the tweaking factor from our msg and this pubkey\n",
    "tweaking_factor = create_commitment(wallet_pubkey, msg)\n",
    "print(f\"tweaking_factor pubkey is {tweaking_factor.wif()} and {tweaking_factor.point}\")\n",
    "\n",
    "# tweak our pubkey\n",
    "tweaked_pubkey = tweaking_factor.point + wallet_pubkey\n",
    "print(f\"tweaked_pubkey is {tweaked_pubkey}\")\n",
    "try:\n",
    "    assert verify_commitment(wallet_pubkey, msg, tweaked_pubkey) == True\n",
    "except:\n",
    "    print(\"Verification failed\")\n",
    "    \n",
    "\n",
    "# we can now easily encode the tweaked pubkey in an address we can pay to\n",
    "print(f\"tweaked address is {tweaked_pubkey.address()}\")"
   ]
  },
  {
   "cell_type": "code",
   "execution_count": 16,
   "id": "d3051601",
   "metadata": {},
   "outputs": [
    {
     "name": "stdout",
     "output_type": "stream",
     "text": [
      "mk3u4cfA6VKjTS4hqMT8msjw1uUoDSeaV7\n"
     ]
    }
   ],
   "source": [
    "# we can now spend this by importing the tweaked private key\n",
    "wallet_privkey = ecc.PrivateKey.from_wif(\"cSgvpCBcTZnTMPmcsbDRxJmkUzXYnnzjSQYWz3uftsN4JPD2BZx5\")\n",
    "\n",
    "tweaked_privkey = ecc.PrivateKey((tweaking_factor.secret.to_int() + wallet_privkey.secret.to_int()) % ecc.N)\n",
    "print(tweaked_privkey.point.address())"
   ]
  },
  {
   "cell_type": "code",
   "execution_count": null,
   "id": "72c76767",
   "metadata": {},
   "outputs": [],
   "source": []
  }
 ],
 "metadata": {
  "kernelspec": {
   "display_name": "Python 3",
   "language": "python",
   "name": "python3"
  },
  "language_info": {
   "codemirror_mode": {
    "name": "ipython",
    "version": 3
   },
   "file_extension": ".py",
   "mimetype": "text/x-python",
   "name": "python",
   "nbconvert_exporter": "python",
   "pygments_lexer": "ipython3",
   "version": "3.8.5"
  }
 },
 "nbformat": 4,
 "nbformat_minor": 5
}
