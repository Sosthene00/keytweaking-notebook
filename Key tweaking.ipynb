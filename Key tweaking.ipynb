{
 "cells": [
  {
   "cell_type": "markdown",
   "id": "1f540f54",
   "metadata": {},
   "source": [
    "# Public key tweaking and commitments\n",
    "\n",
    "This notebook is about demonstrating in a simplified way how public key tweaking works (as described in [LNPBP1](https://github.com/LNP-BP/LNPBPs/blob/master/lnpbp-0001.md)) and then how it is used to embed commitments for RGB ([LNPBP2](https://github.com/LNP-BP/LNPBPs/blob/master/lnpbp-0002.md))"
   ]
  },
  {
   "cell_type": "code",
   "execution_count": null,
   "id": "77017e25",
   "metadata": {},
   "outputs": [],
   "source": [
    "import ecc.ecc as ecc\n",
    "import ecc.util as util\n",
    "from os import urandom\n",
    "from random import randrange\n",
    "import hashlib, hmac"
   ]
  },
  {
   "cell_type": "markdown",
   "id": "1e287696",
   "metadata": {},
   "source": [
    "## Reminder: what are private and public keys"
   ]
  },
  {
   "cell_type": "code",
   "execution_count": null,
   "id": "ae464453",
   "metadata": {},
   "outputs": [],
   "source": [
    "# a private key is a scalar (= an int) in a finite field\n",
    "privkey = 1 % ecc.P\n",
    "print(f\"the order of the field is {ecc.P}\")\n",
    "\n",
    "# public key is a point on the elliptic curve secp256k1. \n",
    "# It is obtained by adding some point of the curve called G (like \"Generator\") to itself a certain amount of times (which is the private key)\n",
    "print(f\"Point G is equal to {ecc.G}\")\n",
    "pubkey = privkey * ecc.G\n",
    "print(f\"Pubkey for privkey {privkey} is {pubkey} or {pubkey.sec().hex()}\")"
   ]
  },
  {
   "cell_type": "markdown",
   "id": "3a624837",
   "metadata": {},
   "source": [
    "## Let's tweak a public key"
   ]
  },
  {
   "cell_type": "code",
   "execution_count": null,
   "id": "8553922b",
   "metadata": {},
   "outputs": [],
   "source": [
    "# we generate 2 new key pairs from some entropy, one being the key pair proper, the other the \"tweak\"\n",
    "privkey = ecc.PrivateKey(int(\"f02055a7c7c7680cbb23dc76ca7fea3b851984b63d93d1d6ccf3d3a9d84a97e2\", 16))\n",
    "pubkey = privkey.point\n",
    "print(f\"Our key pair is {privkey.wif()}\\n{pubkey.sec().hex()}\")\n",
    "\n",
    "tweak_priv = ecc.PrivateKey(int(\"664d02702812642321d33e4095c8fa7de4a1e070428af6427c784362887358bc\", 16))\n",
    "tweak_pub = tweak_priv.point\n",
    "print(f\"Our tweak is {tweak_priv.wif()}\\n{tweak_pub.sec().hex()}\")"
   ]
  },
  {
   "cell_type": "code",
   "execution_count": null,
   "id": "af338d90",
   "metadata": {},
   "outputs": [],
   "source": [
    "# we can then generate a new key pair out of the pubkey and the tweak\n",
    "tweaked_pub = pubkey + tweak_pub\n",
    "print(f\"The sum of {pubkey.sec().hex()} and {tweak_pub.sec().hex()} is:\\n{tweaked_pub.sec().hex()}\")"
   ]
  },
  {
   "cell_type": "code",
   "execution_count": null,
   "id": "8bc51c59",
   "metadata": {},
   "outputs": [],
   "source": [
    "# the point is that we can compute the corresponding tweaked privkey\n",
    "tweaked_priv = privkey.secret + tweak_priv.secret\n",
    "print(f\"The tweaked private key is the sum of {privkey.secret} and {tweak_priv.secret}: \\n{tweaked_priv}\")"
   ]
  },
  {
   "cell_type": "code",
   "execution_count": null,
   "id": "c73ce216",
   "metadata": {},
   "outputs": [],
   "source": [
    "# and that the resulting private key will work for the tweaked public key\n",
    "tweaked_keys = ecc.PrivateKey((privkey.secret.to_int() + tweak_priv.secret.to_int()) % ecc.N) \n",
    "print(f\"tweaked privkey is {tweaked_keys.secret}\")"
   ]
  },
  {
   "cell_type": "code",
   "execution_count": null,
   "id": "3c923338",
   "metadata": {},
   "outputs": [],
   "source": [
    "msg = \"This is a message\" # This is the message we commit to\n",
    "false_msg = \"This is not the message we commited to\""
   ]
  },
  {
   "cell_type": "code",
   "execution_count": null,
   "id": "32501be2",
   "metadata": {},
   "outputs": [],
   "source": [
    "def format_msg(msg):\n",
    "    # create the lnpbp1 msg\n",
    "    prefix = hashlib.sha256(b\"LNPBP1\").digest()\n",
    "    lnpbp1_msg = prefix + hashlib.sha256(b\"tag\").digest() + msg.encode('utf-8')\n",
    "    return lnpbp1_msg\n",
    "\n",
    "def create_commitment(pubkey, msg):\n",
    "    # implementation of LNPBP 1 (single key only)\n",
    "    lnpbp1_msg = format_msg(msg)\n",
    "    # HMAC s and P to get the tweaking factor f\n",
    "    hmac_msg = hmac.digest(pubkey.sec(False), lnpbp1_msg, hashlib.sha256)\n",
    "    f = int.from_bytes(hmac_msg, 'big')\n",
    "    # assert f < n\n",
    "    try:\n",
    "        assert f < ecc.P\n",
    "    except:\n",
    "        print(\"ERROR: tweak overflow secp256k1 order\")\n",
    "    # Compute a new PrivateKey with f as secret\n",
    "    return ecc.PrivateKey(f)\n",
    "\n",
    "def verify_commitment(original_pubkey, msg, commitment):\n",
    "    candidate = create_commitment(original_pubkey, msg)\n",
    "    print(f\"candidate is {candidate.point}\")\n",
    "    return candidate.point + original_pubkey == commitment\n",
    "\n",
    "tweaking_factor = create_commitment(pubkey, msg)\n",
    "print(f\"tweaking_factor pubkey is {tweaking_factor.point}\")\n",
    "tweaked_pubkey = tweaking_factor.point + pubkey\n",
    "print(f\"tweaked_pubkey is {tweaked_pubkey}\")\n",
    "try:\n",
    "    assert verify_commitment(pubkey, msg, tweaked_pubkey) == True\n",
    "except:\n",
    "    print(\"Verification failed\")\n",
    "    \n",
    "# We show that verification fails with another message\n",
    "try:\n",
    "    assert verify_commitment(pubkey, false_msg, tweaked_pubkey) == True\n",
    "except:\n",
    "    print(\"Verification with a false message is indeed failing\")"
   ]
  },
  {
   "cell_type": "code",
   "execution_count": null,
   "id": "77340b29",
   "metadata": {},
   "outputs": [],
   "source": [
    "# now with multiple public key\n",
    "def add_pubkeys(pubkeys_list):\n",
    "    pubkeys_sum = ecc.S256Point.parse(pubkeys_list[0])\n",
    "    for pubkey in pubkeys_list[1:]:\n",
    "        point = ecc.S256Point.parse(pubkey)\n",
    "        pubkeys_sum += point\n",
    "    return pubkeys_sum\n",
    "\n",
    "def generate_pubkeys_list(n):\n",
    "    pubkeys = []\n",
    "    for i in range(0, n):\n",
    "        privkey = ecc.PrivateKey(urandom(16))\n",
    "        print(f\"Pubkey {i} is {privkey.point.sec().hex()}\")\n",
    "        pubkeys.append(privkey.point.sec())\n",
    "    return pubkeys\n",
    "\n",
    "def rm_duplicates(pubkeys_list):\n",
    "    return list(dict.fromkeys(pubkeys_list))\n",
    "\n",
    "def pick_pubkey(pubkeys):\n",
    "    index = randrange(0, len(pubkeys))\n",
    "    return ecc.S256Point.parse(pubkeys[index])\n",
    "\n",
    "def verify_commitment(original_pubkey, msg, commitment, pubkeys=None):\n",
    "    if pubkeys == None:\n",
    "        candidate = create_commitment(original_pubkey, msg)\n",
    "    else:\n",
    "        pubkeys_sum = add_pubkeys(pubkeys)\n",
    "        print(f\"pubkeys sum is {pubkeys_sum.sec().hex()}\")\n",
    "        candidate = create_commitment(pubkeys_sum, msg)\n",
    "    print(f\"candidate is {candidate.point.sec().hex()}\")\n",
    "    return candidate.point + original_pubkey == commitment\n",
    "\n",
    "def print_pubkeys(pubkeys):\n",
    "    res = \"\"\n",
    "    for i in range(0, len(pubkeys)):\n",
    "        pubkey = ecc.S256Point.parse(pubkeys[i])\n",
    "        temp = \"pubkey[\" + str(i) + \"] is \" + str(pubkey.sec().hex()) + \"\\n\"\n",
    "        res += temp\n",
    "    return res\n",
    "\n",
    "pubkeys = generate_pubkeys_list(6)\n",
    "pubkeys.append(pubkeys[0])\n",
    "pubkeys = rm_duplicates(pubkeys)\n",
    "# we need to pick the pubkey we're going to tweak from the set\n",
    "Po = ecc.S256Point.parse((pubkeys[0]))\n",
    "print(f\"Original pubkey is {Po}\")\n",
    "pubkeys_sum = add_pubkeys(pubkeys)\n",
    "print(f\"sum of all pubkeys is {pubkeys_sum}\")"
   ]
  },
  {
   "cell_type": "code",
   "execution_count": null,
   "id": "63751312",
   "metadata": {},
   "outputs": [],
   "source": [
    "# now do again the commitment with multiple keys\n",
    "tweaking_factor = create_commitment(pubkeys_sum, msg)\n",
    "print(f\"tweaking_factor pubkey is {tweaking_factor.point}\\n\")\n",
    "tweaked_pubkey = tweaking_factor.point + Po\n",
    "print(f\"tweaked_pubkey is {tweaked_pubkey}\\n\")\n",
    "try:\n",
    "    assert verify_commitment(Po, msg, tweaked_pubkey, pubkeys) == True\n",
    "except:\n",
    "    print(\"Verification failed\")"
   ]
  },
  {
   "cell_type": "code",
   "execution_count": null,
   "id": "ceee4e66",
   "metadata": {},
   "outputs": [],
   "source": []
  }
 ],
 "metadata": {
  "kernelspec": {
   "display_name": "Python 3 (ipykernel)",
   "language": "python",
   "name": "python3"
  },
  "language_info": {
   "codemirror_mode": {
    "name": "ipython",
    "version": 3
   },
   "file_extension": ".py",
   "mimetype": "text/x-python",
   "name": "python",
   "nbconvert_exporter": "python",
   "pygments_lexer": "ipython3",
   "version": "3.8.10"
  }
 },
 "nbformat": 4,
 "nbformat_minor": 5
}
