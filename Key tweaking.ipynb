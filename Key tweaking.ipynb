{
 "cells": [
  {
   "cell_type": "code",
   "execution_count": 54,
   "id": "77017e25",
   "metadata": {},
   "outputs": [],
   "source": [
    "import ecc.ecc as ecc\n",
    "import ecc.util as util\n",
    "from os import urandom, getcwd\n",
    "import hashlib, hmac"
   ]
  },
  {
   "cell_type": "code",
   "execution_count": 86,
   "id": "3c923338",
   "metadata": {},
   "outputs": [
    {
     "name": "stdout",
     "output_type": "stream",
     "text": [
      "b'This is a message'\n"
     ]
    }
   ],
   "source": [
    "msg = \"This is a message\" # This is the message we commit to\n",
    "false_msg = \"This is not the message we commited to\"\n",
    "print(msg.encode('utf-8'))"
   ]
  },
  {
   "cell_type": "code",
   "execution_count": 90,
   "id": "8553922b",
   "metadata": {},
   "outputs": [
    {
     "name": "stdout",
     "output_type": "stream",
     "text": [
      "03f679efe0d62cf1fc465edfab93e40e2341ec7be081e846271a519287bd9356e4\n"
     ]
    }
   ],
   "source": [
    "privkey = ecc.PrivateKey(int(\"f02055a7c7c7680cbb23dc76ca7fea3b851984b63d93d1d6ccf3d3a9d84a97e2\", 16))\n",
    "pubkey = privkey.point\n",
    "print(pubkey.sec().hex())"
   ]
  },
  {
   "cell_type": "code",
   "execution_count": 92,
   "id": "32501be2",
   "metadata": {},
   "outputs": [
    {
     "name": "stdout",
     "output_type": "stream",
     "text": [
      "tweaking_factor pubkey is 0261b4c9588d379d3c913ee51df0e6fb23aeab8414551856eb07e1f7bc8256ae69\n",
      "tweaked_pubkey is 03d02adaf5b19f8d80cef22e1f6be4769bb9a2d711d4b3da5fe1044b764da1dd89\n",
      "candidate commitment is 0261b4c9588d379d3c913ee51df0e6fb23aeab8414551856eb07e1f7bc8256ae69\n"
     ]
    }
   ],
   "source": [
    "def format_msg(msg):\n",
    "    # create the lnpbp1 msg\n",
    "    prefix = hashlib.sha256(b\"LNPBP1\").digest()\n",
    "    lnpbp1_msg = prefix + hashlib.sha256(b\"tag\").digest() + msg.encode('utf-8')\n",
    "    return lnpbp1_msg\n",
    "\n",
    "def create_commitment(pubkey, msg):\n",
    "    # implementation of LNPBP 1 (single key only)\n",
    "    lnpbp1_msg = format_msg(msg)\n",
    "    # HMAC s and P to get the tweaking factor f\n",
    "    hmac = hmac.digest(pubkey.sec(), lnpbp1_msg, hashlib.sha256)\n",
    "    f = int.from_bytes(HMAC.digest(), 'big')\n",
    "    # assert f < n\n",
    "    try:\n",
    "        assert f < ecc.N\n",
    "    except:\n",
    "        print(\"ERROR: tweak overflow secp256k1 order\")\n",
    "    # Compute a new PrivateKey with f as secret\n",
    "    return ecc.PrivateKey(f)\n",
    "\n",
    "def verify_commitment(pubkey, msg, commitment):\n",
    "    candidate = create_commitment(pubkey, msg) \n",
    "    print(f\"candidate commitment is {candidate.point.sec().hex()}\")\n",
    "    return candidate.point + pubkey == commitment\n",
    "\n",
    "tweaking_factor = create_commitment(pubkey, msg)\n",
    "print(f\"tweaking_factor pubkey is {tweaking_factor.point.sec().hex()}\")\n",
    "tweaked_pubkey = tweaking_factor.point + h.point\n",
    "print(f\"tweaked_pubkey is {tweaked_pubkey.sec().hex()}\")\n",
    "try:\n",
    "    assert verify_commitment(h.point, msg, tweaked_pubkey) == True\n",
    "except:\n",
    "    print(\"Verification failed\")"
   ]
  },
  {
   "cell_type": "code",
   "execution_count": null,
   "id": "77340b29",
   "metadata": {},
   "outputs": [],
   "source": []
  }
 ],
 "metadata": {
  "kernelspec": {
   "display_name": "Python 3",
   "language": "python",
   "name": "python3"
  },
  "language_info": {
   "codemirror_mode": {
    "name": "ipython",
    "version": 3
   },
   "file_extension": ".py",
   "mimetype": "text/x-python",
   "name": "python",
   "nbconvert_exporter": "python",
   "pygments_lexer": "ipython3",
   "version": "3.8.5"
  }
 },
 "nbformat": 4,
 "nbformat_minor": 5
}
